{
 "cells": [
  {
   "cell_type": "code",
   "execution_count": null,
   "id": "ee2c8bb0-814d-4b35-abba-fde689429d50",
   "metadata": {},
   "outputs": [],
   "source": [
    "!pip install buildozer"
   ]
  },
  {
   "cell_type": "code",
   "execution_count": null,
   "id": "1c980023-3046-40a4-934b-f608a44302b5",
   "metadata": {},
   "outputs": [],
   "source": [
    "!sudo apt install -y git zip unzip openjdk-17-jdk python3-pip autoconf libtool pkg-config zlib1g-dev libncurses5-dev libncursesw5-dev libtinfo5 cmake libffi-dev libssl-dev"
   ]
  },
  {
   "cell_type": "code",
   "execution_count": null,
   "id": "46ae76c5-abf1-44f0-a0c7-ef8981b9decb",
   "metadata": {},
   "outputs": [],
   "source": [
    "!pip install cython==0.29.33"
   ]
  },
  {
   "cell_type": "code",
   "execution_count": null,
   "id": "4347bd39-f639-4a47-a1b4-c2d0635c6b71",
   "metadata": {},
   "outputs": [],
   "source": [
    "!sudo apt-get install -y \\\n",
    "    python3-pip \\\n",
    "    build-essential \\\n",
    "    git \\\n",
    "    python3 \\\n",
    "    python3-dev \\\n",
    "    ffmpeg \\\n",
    "    libsdl2-dev \\\n",
    "    libsdl2-image-dev \\\n",
    "    libsdl2-mixer-dev \\\n",
    "    libsdl2-ttf-dev \\\n",
    "    libportmidi-dev \\\n",
    "    libswscale-dev \\\n",
    "    libavformat-dev \\\n",
    "    libavcodec-dev \\\n",
    "    zlib1g-dev"
   ]
  },
  {
   "cell_type": "code",
   "execution_count": null,
   "id": "a9f5ab32-a0fc-4809-a570-09b1f5f2ed9f",
   "metadata": {},
   "outputs": [],
   "source": [
    "!sudo apt-get install -y \\\n",
    "    libgstreamer1.0 \\\n",
    "    gstreamer1.0-plugins-base \\\n",
    "    gstreamer1.0-plugins-good"
   ]
  },
  {
   "cell_type": "code",
   "execution_count": null,
   "id": "4dc0dfbf-de83-49d8-b36d-890ff6eb56ef",
   "metadata": {},
   "outputs": [],
   "source": [
    "!sudo apt-get install build-essential libsqlite3-dev sqlite3 bzip2 libbz2-dev zlib1g-dev libssl-dev openssl libgdbm-dev libgdbm-compat-dev liblzma-dev libreadline-dev libncursesw5-dev libffi-dev uuid-dev libffi7"
   ]
  },
  {
   "cell_type": "code",
   "execution_count": null,
   "id": "19995234-c14e-44a4-9c89-51e21ce01524",
   "metadata": {},
   "outputs": [],
   "source": [
    "!sudo apt-get install libffi-dev"
   ]
  },
  {
   "cell_type": "code",
   "execution_count": null,
   "id": "3e6910fd-1e3f-47cd-9aec-096c0d010d1b",
   "metadata": {},
   "outputs": [],
   "source": [
    "!buildozer init"
   ]
  },
  {
   "cell_type": "code",
   "execution_count": null,
   "id": "23fcee16-adba-4e33-9f81-6ae671325366",
   "metadata": {},
   "outputs": [],
   "source": [
    "!buildozer -v android debug"
   ]
  },
  {
   "cell_type": "code",
   "execution_count": null,
   "id": "9d88191f-c6c1-4661-9a1e-6be590f9edb5",
   "metadata": {},
   "outputs": [],
   "source": [
    "!buildozer android clean"
   ]
  },
  {
   "cell_type": "code",
   "execution_count": null,
   "id": "8e902e07-c7e8-4600-8c84-011f5a4e8b3c",
   "metadata": {},
   "outputs": [],
   "source": [
    "!buildozer android debug deploy run # <- this commanot won't work in virtual machine (wsl, colab) instead of do this for debugging - https://github.com/Android-for-Python/Android-for-Python-Users?tab=readme-ov-file#debugging"
   ]
  }
 ],
 "metadata": {
  "kernelspec": {
   "display_name": "Python 3 (ipykernel)",
   "language": "python",
   "name": "python3"
  },
  "language_info": {
   "codemirror_mode": {
    "name": "ipython",
    "version": 3
   },
   "file_extension": ".py",
   "mimetype": "text/x-python",
   "name": "python",
   "nbconvert_exporter": "python",
   "pygments_lexer": "ipython3",
   "version": "3.10.9"
  }
 },
 "nbformat": 4,
 "nbformat_minor": 5
}
